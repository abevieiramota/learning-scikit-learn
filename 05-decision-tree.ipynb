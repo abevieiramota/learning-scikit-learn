{
 "metadata": {
  "name": "",
  "signature": "sha256:16394d4db4a58a58bc77a1d1fe716e7e55e8d92df93d2d68f416f9678a6b4dad"
 },
 "nbformat": 3,
 "nbformat_minor": 0,
 "worksheets": [
  {
   "cells": [
    {
     "cell_type": "markdown",
     "metadata": {},
     "source": [
      "- http://scikit-learn.org/stable/modules/tree.html\n",
      "- http://scikit-learn.org/stable/modules/generated/sklearn.tree.DecisionTreeClassifier.html#sklearn.tree.DecisionTreeClassifier"
     ]
    },
    {
     "cell_type": "code",
     "collapsed": false,
     "input": [
      "import numpy as np\n",
      "from sklearn import tree\n",
      "from matplotlib import pyplot as pl\n",
      "%matplotlib inline"
     ],
     "language": "python",
     "metadata": {},
     "outputs": [],
     "prompt_number": 6
    },
    {
     "cell_type": "code",
     "collapsed": false,
     "input": [
      "X = np.array([[0, 0], [1, 1], [2, 2], [3, 3], [4, 4], [-1, 10], [2, 5], [11, 11], [9, 9]])\n",
      "y = np.array([0, 0, 0, 1, 1, 0, 1, 1, 0])\n",
      "\n",
      "fig = pl.figure(figsize=(10, 5))\n",
      "ax1 = fig.add_subplot(1, 2, 1)\n",
      "ax2 = fig.add_subplot(1, 2, 2)\n",
      "\n",
      "# gini\n",
      "model = tree.DecisionTreeClassifier(criterion='gini', random_state=100)\n",
      "model.fit(X, y)\n",
      "\n",
      "x0_min, x0_max = -2., 12.\n",
      "x1_min, x1_max = -2., 12.\n",
      "\n",
      "xx, yy = np.meshgrid(np.linspace(x0_min, x0_max, 200),\n",
      "                     np.linspace(x1_min, x1_max, 200))\n",
      "\n",
      "Z = model.predict(np.c_[xx.ravel(), yy.ravel()])\n",
      "Z = Z.reshape(xx.shape)\n",
      "\n",
      "ax1.contourf(xx, yy, Z, alpha=.5)\n",
      "ax1.scatter(X[y==0][:, 0], X[y==0][:, 1], c='b')\n",
      "ax1.scatter(X[y==1][:, 0], X[y==1][:, 1], c='r')\n",
      "ax1.set_title('gini')\n",
      "# entropy\n",
      "\n",
      "model = tree.DecisionTreeClassifier(criterion='entropy', random_state=1)\n",
      "model.fit(X, y)\n",
      "\n",
      "x0_min, x0_max = -2., 12.\n",
      "x1_min, x1_max = -2., 12.\n",
      "\n",
      "xx, yy = np.meshgrid(np.linspace(x0_min, x0_max, 200),\n",
      "                     np.linspace(x1_min, x1_max, 200))\n",
      "\n",
      "Z = model.predict(np.c_[xx.ravel(), yy.ravel()])\n",
      "Z = Z.reshape(xx.shape)\n",
      "\n",
      "ax2.contourf(xx, yy, Z, alpha=.5)\n",
      "ax2.scatter(X[y==0][:, 0], X[y==0][:, 1], c='b')\n",
      "ax2.scatter(X[y==1][:, 0], X[y==1][:, 1], c='r')\n",
      "ax2.set_title('entropy')"
     ],
     "language": "python",
     "metadata": {},
     "outputs": [
      {
       "metadata": {},
       "output_type": "pyout",
       "prompt_number": 29,
       "text": [
        "<matplotlib.text.Text at 0x7fdd10f7b410>"
       ]
      },
      {
       "metadata": {},
       "output_type": "display_data",
       "png": "[encoded data removed]",
       "text": [
        "<matplotlib.figure.Figure at 0x7fdd110baf50>"
       ]
      }
     ],
     "prompt_number": 29
    }
   ],
   "metadata": {}
  }
 ]
}