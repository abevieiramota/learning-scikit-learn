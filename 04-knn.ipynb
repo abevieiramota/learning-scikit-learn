{
 "metadata": {
  "name": "",
  "signature": "sha256:f529dd154ab0f84969c8ef2fefd16a77d45e190b5fdda11b41bb8cdbf83e9d2f"
 },
 "nbformat": 3,
 "nbformat_minor": 0,
 "worksheets": [
  {
   "cells": [
    {
     "cell_type": "markdown",
     "metadata": {},
     "source": [
      "- http://scikit-learn.org/stable/modules/neighbors.html#nearest-neighbors-classification\n",
      "- http://scikit-learn.org/stable/modules/generated/sklearn.neighbors.KNeighborsClassifier.html\n",
      "- http://scikit-learn.org/stable/modules/generated/sklearn.neighbors.DistanceMetric.html"
     ]
    },
    {
     "cell_type": "code",
     "collapsed": false,
     "input": [
      "from sklearn.neighbors import KNeighborsClassifier\n",
      "import numpy as np\n",
      "from matplotlib import pyplot as pl\n",
      "from itertools import product\n",
      "%matplotlib inline\n",
      "%run util.py"
     ],
     "language": "python",
     "metadata": {},
     "outputs": [],
     "prompt_number": 1
    },
    {
     "cell_type": "code",
     "collapsed": false,
     "input": [
      "X0 = np.linspace(0, 10, 100).reshape((100, 1))\n",
      "X1 = np.random.normal(0., 5., 100).reshape((100, 1))\n",
      "X = np.hstack((X0, X1))\n",
      "Y = np.random.choice([1, 2, 3], 100)"
     ],
     "language": "python",
     "metadata": {},
     "outputs": [],
     "prompt_number": 2
    },
    {
     "cell_type": "code",
     "collapsed": false,
     "input": [
      "ks = [1, 5, 15]\n",
      "weights = ['uniform', 'distance']\n",
      "metrics = ['manhattan', 'minkowski', 'euclidean', 'chebyshev']\n",
      "\n",
      "params = product(ks, weights, metrics)\n",
      "n_params = len(ks)*len(weights)*len(metrics)\n",
      "\n",
      "fig = pl.figure(figsize=(12, n_params*6))\n",
      "\n",
      "for i, (k, weight, metric) in enumerate(params):    \n",
      "\n",
      "    # weights uniform\n",
      "    model = KNeighborsClassifier(n_neighbors=k, weights=weight, metric=metric)\n",
      "    model.fit(X, Y)\n",
      "    Y_ = model.predict(X)\n",
      "    \n",
      "    \n",
      "    # scatter dos dados\n",
      "    ax = fig.add_subplot(n_params, 2, i*2+1)\n",
      "\n",
      "    ax.scatter(X0[Y==1], X1[Y==1], c='r')\n",
      "    ax.scatter(X0[Y==2], X1[Y==2], c='b')\n",
      "    ax.scatter(X0[Y==3], X1[Y==3], c='g')\n",
      "\n",
      "    #contour\n",
      "    ax1 = fig.add_subplot(n_params, 2, i*2+2)\n",
      "    ax1.set_title('k %d weights %s metric %s' % (k, weight, metric))\n",
      "    \n",
      "    x0_min, x0_max = X0.min()-1., X0.max()+1.\n",
      "    x1_min, x1_max = X1.min()-1., X1.max()+1.\n",
      "    size = 200\n",
      "\n",
      "    xx, yy = np.meshgrid(np.linspace(x0_min, x0_max, size),\n",
      "                         np.linspace(x1_min, x1_max, size))\n",
      "\n",
      "    Z = model.predict(np.c_[xx.ravel(), yy.ravel()])\n",
      "\n",
      "    Z = Z.reshape(xx.shape)\n",
      "\n",
      "    # TODO: entender por que tive que usar esse 'colors' para gerar esse contour...\n",
      "    ax1.contourf(xx, yy, Z, alpha=.5, colors=('r', 'black', 'g', 'b', 'pink'))\n",
      "    ax1.scatter(X0[Y_==1], X1[Y_==1], c='r', label='1')\n",
      "    ax1.scatter(X0[Y_==2], X1[Y_==2], c='b', label='2')\n",
      "    ax1.scatter(X0[Y_==3], X1[Y_==3], c='g', label='3')\n",
      "    ax1.legend()\n",
      "    \n",
      "fig.savefig('k-nn-plot.png')\n",
      "fig.clf()"
     ],
     "language": "python",
     "metadata": {},
     "outputs": [
      {
       "metadata": {},
       "output_type": "display_data",
       "text": [
        "<matplotlib.figure.Figure at 0x7fcc27fcf4d0>"
       ]
      }
     ],
     "prompt_number": 4
    },
    {
     "cell_type": "markdown",
     "metadata": {},
     "source": [
      "ver o arquivo gerado"
     ]
    }
   ],
   "metadata": {}
  }
 ]
}