{
 "metadata": {
  "name": "",
  "signature": "sha256:5d68759d829998fe3be4227eaddb4d26e88369fe540605d5ff844b2f5c17c07d"
 },
 "nbformat": 3,
 "nbformat_minor": 0,
 "worksheets": [
  {
   "cells": [
    {
     "cell_type": "code",
     "collapsed": false,
     "input": [
      "#fonte: http://scikit-learn.org/stable/modules/cross_validation.html"
     ],
     "language": "python",
     "metadata": {},
     "outputs": [],
     "prompt_number": 1
    },
    {
     "cell_type": "code",
     "collapsed": false,
     "input": [
      "import numpy as np\n",
      "from sklearn import datasets\n",
      "from sklearn import cross_validation\n",
      "from sklearn import svm\n",
      "from itertools import product\n",
      "import pandas as pd\n",
      "from matplotlib import pyplot as pl\n",
      "%matplotlib inline"
     ],
     "language": "python",
     "metadata": {},
     "outputs": [],
     "prompt_number": 85
    },
    {
     "cell_type": "heading",
     "level": 1,
     "metadata": {},
     "source": [
      "Introdu\u00e7\u00e3o"
     ]
    },
    {
     "cell_type": "code",
     "collapsed": false,
     "input": [
      "iris = datasets.load_iris()\n",
      "iris.data.shape, iris.target.shape"
     ],
     "language": "python",
     "metadata": {},
     "outputs": [
      {
       "metadata": {},
       "output_type": "pyout",
       "prompt_number": 27,
       "text": [
        "((150, 4), (150,))"
       ]
      }
     ],
     "prompt_number": 27
    },
    {
     "cell_type": "code",
     "collapsed": false,
     "input": [
      "X_train, X_test, y_train, y_test = cross_validation.train_test_split(iris.data, \n",
      "                                                                     iris.target, \n",
      "                                                                     test_size=.4, \n",
      "                                                                     random_state=0)\n",
      "X_train.shape, y_train.shape"
     ],
     "language": "python",
     "metadata": {},
     "outputs": [
      {
       "metadata": {},
       "output_type": "pyout",
       "prompt_number": 28,
       "text": [
        "((90, 4), (90,))"
       ]
      }
     ],
     "prompt_number": 28
    },
    {
     "cell_type": "code",
     "collapsed": false,
     "input": [
      "clf = svm.SVC(kernel='linear', C=1).fit(X_train, y_train)\n",
      "clf.score(X_test, y_test)"
     ],
     "language": "python",
     "metadata": {},
     "outputs": [
      {
       "metadata": {},
       "output_type": "pyout",
       "prompt_number": 29,
       "text": [
        "0.96666666666666667"
       ]
      }
     ],
     "prompt_number": 29
    },
    {
     "cell_type": "code",
     "collapsed": false,
     "input": [
      "kernels = ['linear', 'rbf', 'poly', 'sigmoid']\n",
      "Cs = [0.0001, 0.01, 1., 10., 100., 1000.]\n",
      "\n",
      "\n",
      "dados = []\n",
      "for kernel, c in product(kernels, Cs):\n",
      "    score = svm.SVC(kernel=kernel, C=c).fit(X_train, y_train).score(X_test, y_test)\n",
      "    dados.append((kernel, c, score))\n",
      "    \n",
      "stats = pd.DataFrame(dados, columns=['kernel', 'C', 'score'])\n",
      "\n",
      "fig = pl.figure()\n",
      "ax = fig.add_subplot(1, 1, 1)\n",
      "\n",
      "for kernel in kernels:\n",
      "    \n",
      "    stats_kernel = stats[stats.kernel==kernel]\n",
      "    \n",
      "    C = stats_kernel.C\n",
      "    scores = stats_kernel.score\n",
      "    \n",
      "    ax.plot(range(len(scores)), scores, label=kernel)\n",
      "    \n",
      "ax.legend(loc='center right')\n",
      "ax.set_xticks(range(len(scores)))\n",
      "ax.set_xticklabels(C.tolist())\n",
      "ax.grid()"
     ],
     "language": "python",
     "metadata": {},
     "outputs": [
      {
       "metadata": {},
       "output_type": "display_data",
       "png": "[encoded data removed]",
       "text": [
        "<matplotlib.figure.Figure at 0x7f1a341227d0>"
       ]
      }
     ],
     "prompt_number": 80
    },
    {
     "cell_type": "heading",
     "level": 1,
     "metadata": {},
     "source": [
      "Cross-validation"
     ]
    },
    {
     "cell_type": "code",
     "collapsed": false,
     "input": [
      "# 5-fold\n",
      "clf = svm.SVC(kernel='linear', C=1.)\n",
      "scores = cross_validation.cross_val_score(clf, iris.data, iris.target, cv=5)\n",
      "scores"
     ],
     "language": "python",
     "metadata": {},
     "outputs": [
      {
       "metadata": {},
       "output_type": "pyout",
       "prompt_number": 83,
       "text": [
        "array([ 1.        ,  0.96666667,  0.9       ,  0.96666667,  1.        ])"
       ]
      }
     ],
     "prompt_number": 83
    },
    {
     "cell_type": "code",
     "collapsed": false,
     "input": [
      "print \"Accuracy: %0.2f (+/- %0.2f)\" % (scores.mean(), scores.std() * 2)"
     ],
     "language": "python",
     "metadata": {},
     "outputs": [
      {
       "output_type": "stream",
       "stream": "stdout",
       "text": [
        "Accuracy: 0.97 (+/- 0.07)\n"
       ]
      }
     ],
     "prompt_number": 84
    },
    {
     "cell_type": "heading",
     "level": 2,
     "metadata": {},
     "source": [
      "Cross-validation iterators"
     ]
    },
    {
     "cell_type": "heading",
     "level": 4,
     "metadata": {},
     "source": [
      "KFold"
     ]
    },
    {
     "cell_type": "markdown",
     "metadata": {},
     "source": [
      "- KFold divides all the samples in math:k groups of samples, called folds (if k = n, this is equivalent to the Leave One Out strategy), of equal sizes (if possible). The prediction function is learned using k - 1 folds, and the fold left out is used for test."
     ]
    },
    {
     "cell_type": "code",
     "collapsed": false,
     "input": [
      "from sklearn.cross_validation import KFold\n",
      "\n",
      "X = np.array([[0., 0.], [1., 1.], [-1., -1.], [2., 2.]])\n",
      "Y = np.array([0, 1, 2, 3])\n",
      "\n",
      "kf = KFold(len(Y), n_folds=2, indices=False)\n",
      "\n",
      "for train, test in kf:\n",
      "    \n",
      "    print '%s %s' % (train, test)\n",
      "    print '%s %s' % (X[train].T, Y[train])\n",
      "    print '%s %s' % (X[test].T, Y[test])\n",
      "    print '\\n'"
     ],
     "language": "python",
     "metadata": {},
     "outputs": [
      {
       "output_type": "stream",
       "stream": "stdout",
       "text": [
        "[False False  True  True] [ True  True False False]\n",
        "[[-1.  2.]\n",
        " [-1.  2.]] [2 3]\n",
        "[[ 0.  1.]\n",
        " [ 0.  1.]] [0 1]\n",
        "\n",
        "\n",
        "[ True  True False False] [False False  True  True]\n",
        "[[ 0.  1.]\n",
        " [ 0.  1.]] [0 1]\n",
        "[[-1.  2.]\n",
        " [-1.  2.]] [2 3]\n",
        "\n",
        "\n"
       ]
      }
     ],
     "prompt_number": 107
    },
    {
     "cell_type": "code",
     "collapsed": false,
     "input": [
      "# \u00edndices utilizados com matrizes esparsas\n",
      "kf = KFold(len(Y), n_folds=2, indices=True)\n",
      "\n",
      "for train, test in kf:\n",
      "    \n",
      "    print '%s %s' % (train, test)\n",
      "    print '%s %s' % (X[train].T, Y[train])\n",
      "    print '%s %s' % (X[test].T, Y[test])\n",
      "    print '\\n'"
     ],
     "language": "python",
     "metadata": {},
     "outputs": [
      {
       "output_type": "stream",
       "stream": "stdout",
       "text": [
        "[3 4 5] [0 1 2]\n",
        "[[3 4 5]] [1 2 2]\n",
        "[[0 1 2]] [0 0 1]\n",
        "\n",
        "\n",
        "[0 1 2] [3 4 5]\n",
        "[[0 1 2]] [0 0 1]\n",
        "[[3 4 5]] [1 2 2]\n",
        "\n",
        "\n"
       ]
      }
     ],
     "prompt_number": 106
    },
    {
     "cell_type": "heading",
     "level": 4,
     "metadata": {},
     "source": [
      "StratifiedKFold"
     ]
    },
    {
     "cell_type": "markdown",
     "metadata": {},
     "source": [
      "- StratifiedKFold is a variation of k-fold which returns stratified folds: each set contains the same percentage of samples of each target class as the complete set."
     ]
    },
    {
     "cell_type": "code",
     "collapsed": false,
     "input": [
      "from sklearn.cross_validation import StratifiedKFold\n",
      "X = np.array([[0], [1], [2], [3], [4], [5], [6]])\n",
      "Y = np.array([0, 0, 1, 1, 2, 2])\n",
      "\n",
      "skf = StratifiedKFold(Y, n_folds=2)\n",
      "\n",
      "for train, test in skf:\n",
      "    \n",
      "    print '%s %s' % (train, test)\n",
      "    print '%s >>>>> %s' % (X[train].T, Y[train])\n",
      "    print '%s >>>>> %s' % (X[test].T, Y[test])\n",
      "    print '\\n'"
     ],
     "language": "python",
     "metadata": {},
     "outputs": [
      {
       "output_type": "stream",
       "stream": "stdout",
       "text": [
        "[1 3 5] [0 2 4]\n",
        "[[1 3 5]] >>>>> [0 1 2]\n",
        "[[0 2 4]] >>>>> [0 1 2]\n",
        "\n",
        "\n",
        "[0 2 4] [1 3 5]\n",
        "[[0 2 4]] >>>>> [0 1 2]\n",
        "[[1 3 5]] >>>>> [0 1 2]\n",
        "\n",
        "\n"
       ]
      }
     ],
     "prompt_number": 135
    },
    {
     "cell_type": "heading",
     "level": 4,
     "metadata": {},
     "source": [
      "Leave-One-Out"
     ]
    },
    {
     "cell_type": "markdown",
     "metadata": {},
     "source": [
      "- LeaveOneOut (or LOO) is a simple cross-validation. Each learning set is created by taking all the samples except one, the test set being the sample left out. Thus, for n samples, we have n different learning sets and n different tests set. This cross-validation procedure does not waste much data as only one sample is removed from the learning set"
     ]
    },
    {
     "cell_type": "code",
     "collapsed": false,
     "input": [
      "from sklearn.cross_validation import LeaveOneOut\n",
      "\n",
      "loo = LeaveOneOut(len(Y))\n",
      "\n",
      "for train, test in loo:\n",
      "    \n",
      "    print '%s %s' % (train, test)\n",
      "    print 'treino %s >>>>> %s' % (X[train].T, Y[train])\n",
      "    print 'teste %s >>>>> %s' % (X[test].T, Y[test])\n",
      "    print '\\n'"
     ],
     "language": "python",
     "metadata": {},
     "outputs": [
      {
       "output_type": "stream",
       "stream": "stdout",
       "text": [
        "[1 2 3 4 5] [0]\n",
        "treino [[1 2 3 4 5]] >>>>> [0 1 1 2 2]\n",
        "teste [[0]] >>>>> [0]\n",
        "\n",
        "\n",
        "[0 2 3 4 5] [1]\n",
        "treino [[0 2 3 4 5]] >>>>> [0 1 1 2 2]\n",
        "teste [[1]] >>>>> [0]\n",
        "\n",
        "\n",
        "[0 1 3 4 5] [2]\n",
        "treino [[0 1 3 4 5]] >>>>> [0 0 1 2 2]\n",
        "teste [[2]] >>>>> [1]\n",
        "\n",
        "\n",
        "[0 1 2 4 5] [3]\n",
        "treino [[0 1 2 4 5]] >>>>> [0 0 1 2 2]\n",
        "teste [[3]] >>>>> [1]\n",
        "\n",
        "\n",
        "[0 1 2 3 5] [4]\n",
        "treino [[0 1 2 3 5]] >>>>> [0 0 1 1 2]\n",
        "teste [[4]] >>>>> [2]\n",
        "\n",
        "\n",
        "[0 1 2 3 4] [5]\n",
        "treino [[0 1 2 3 4]] >>>>> [0 0 1 1 2]\n",
        "teste [[5]] >>>>> [2]\n",
        "\n",
        "\n"
       ]
      }
     ],
     "prompt_number": 134
    },
    {
     "cell_type": "heading",
     "level": 4,
     "metadata": {},
     "source": [
      "Leave-P-Out"
     ]
    },
    {
     "cell_type": "markdown",
     "metadata": {},
     "source": [
      "- LeavePOut is very similar to LeaveOneOut as it creates all the possible training/test sets by removing p samples from the complete set. For n samples, this produces ${n \\choose p}$ train-test pairs. Unlike LeaveOneOut and KFold, the test sets will overlap for p > 1."
     ]
    },
    {
     "cell_type": "code",
     "collapsed": false,
     "input": [
      "from sklearn.cross_validation import LeavePOut\n",
      "\n",
      "lpo = LeavePOut(len(Y), 2)\n",
      "\n",
      "for train, test in lpo:\n",
      "    \n",
      "    print '%s %s' % (train, test)\n",
      "    print 'treino %s >>>>> %s' % (X[train].T, Y[train])\n",
      "    print 'teste %s >>>>> %s' % (X[test].T, Y[test])\n",
      "    print '\\n'"
     ],
     "language": "python",
     "metadata": {},
     "outputs": [
      {
       "output_type": "stream",
       "stream": "stdout",
       "text": [
        "[2 3 4 5] [0 1]\n",
        "treino [[2 3 4 5]] >>>>> [1 1 2 2]\n",
        "teste [[0 1]] >>>>> [0 0]\n",
        "\n",
        "\n",
        "[1 3 4 5] [0 2]\n",
        "treino [[1 3 4 5]] >>>>> [0 1 2 2]\n",
        "teste [[0 2]] >>>>> [0 1]\n",
        "\n",
        "\n",
        "[1 2 4 5] [0 3]\n",
        "treino [[1 2 4 5]] >>>>> [0 1 2 2]\n",
        "teste [[0 3]] >>>>> [0 1]\n",
        "\n",
        "\n",
        "[1 2 3 5] [0 4]\n",
        "treino [[1 2 3 5]] >>>>> [0 1 1 2]\n",
        "teste [[0 4]] >>>>> [0 2]\n",
        "\n",
        "\n",
        "[1 2 3 4] [0 5]\n",
        "treino [[1 2 3 4]] >>>>> [0 1 1 2]\n",
        "teste [[0 5]] >>>>> [0 2]\n",
        "\n",
        "\n",
        "[0 3 4 5] [1 2]\n",
        "treino [[0 3 4 5]] >>>>> [0 1 2 2]\n",
        "teste [[1 2]] >>>>> [0 1]\n",
        "\n",
        "\n",
        "[0 2 4 5] [1 3]\n",
        "treino [[0 2 4 5]] >>>>> [0 1 2 2]\n",
        "teste [[1 3]] >>>>> [0 1]\n",
        "\n",
        "\n",
        "[0 2 3 5] [1 4]\n",
        "treino [[0 2 3 5]] >>>>> [0 1 1 2]\n",
        "teste [[1 4]] >>>>> [0 2]\n",
        "\n",
        "\n",
        "[0 2 3 4] [1 5]\n",
        "treino [[0 2 3 4]] >>>>> [0 1 1 2]\n",
        "teste [[1 5]] >>>>> [0 2]\n",
        "\n",
        "\n",
        "[0 1 4 5] [2 3]\n",
        "treino [[0 1 4 5]] >>>>> [0 0 2 2]\n",
        "teste [[2 3]] >>>>> [1 1]\n",
        "\n",
        "\n",
        "[0 1 3 5] [2 4]\n",
        "treino [[0 1 3 5]] >>>>> [0 0 1 2]\n",
        "teste [[2 4]] >>>>> [1 2]\n",
        "\n",
        "\n",
        "[0 1 3 4] [2 5]\n",
        "treino [[0 1 3 4]] >>>>> [0 0 1 2]\n",
        "teste [[2 5]] >>>>> [1 2]\n",
        "\n",
        "\n",
        "[0 1 2 5] [3 4]\n",
        "treino [[0 1 2 5]] >>>>> [0 0 1 2]\n",
        "teste [[3 4]] >>>>> [1 2]\n",
        "\n",
        "\n",
        "[0 1 2 4] [3 5]\n",
        "treino [[0 1 2 4]] >>>>> [0 0 1 2]\n",
        "teste [[3 5]] >>>>> [1 2]\n",
        "\n",
        "\n",
        "[0 1 2 3] [4 5]\n",
        "treino [[0 1 2 3]] >>>>> [0 0 1 1]\n",
        "teste [[4 5]] >>>>> [2 2]\n",
        "\n",
        "\n"
       ]
      }
     ],
     "prompt_number": 133
    },
    {
     "cell_type": "heading",
     "level": 4,
     "metadata": {},
     "source": [
      "Leave-One-Label-Out"
     ]
    },
    {
     "cell_type": "markdown",
     "metadata": {},
     "source": [
      "- LeaveOneLabelOut (LOLO) is a cross-validation scheme which holds out the samples according to a third-party provided label. This label information can be used to encode arbitrary domain specific stratifications of the samples as integers.\n",
      "Each training set is thus constituted by all the samples except the ones related to a specific label.\n",
      "For example, in the cases of multiple experiments, LOLO can be used to create a cross-validation based on the different experiments: we create a training set using the samples of all the experiments except oneLeaveOneLabelOut (LOLO) is a cross-validation scheme which holds out the samples according to a third-party provided label. This label information can be used to encode arbitrary domain specific stratifications of the samples as integers.\n",
      "Each training set is thus constituted by all the samples except the ones related to a specific label.\n",
      "For example, in the cases of multiple experiments, LOLO can be used to create a cross-validation based on the different experiments: we create a training set using the samples of all the experiments except one\n",
      "- Another common application is to use time information: for instance the labels could be the year of collection of the samples and thus allow for cross-validation against time-based splits."
     ]
    },
    {
     "cell_type": "code",
     "collapsed": false,
     "input": [
      "from sklearn.cross_validation import LeaveOneLabelOut\n",
      "\n",
      "# uso trivial, para escolher uma classe para ficar de fora\n",
      "labels = [1, 1, 2, 2, 3, 3]\n",
      "\n",
      "lolo = LeaveOneLabelOut(labels)\n",
      "\n",
      "for train, test in lolo:\n",
      "    \n",
      "    print '%s %s' % (train, test)\n",
      "    print 'treino %s >>>>> %s' % (X[train].T, Y[train])\n",
      "    print 'teste %s >>>>> %s' % (X[test].T, Y[test])\n",
      "    print '\\n'"
     ],
     "language": "python",
     "metadata": {},
     "outputs": [
      {
       "output_type": "stream",
       "stream": "stdout",
       "text": [
        "[2 3 4 5] [0 1]\n",
        "treino [[2 3 4 5]] >>>>> [1 1 2 2]\n",
        "teste [[0 1]] >>>>> [0 0]\n",
        "\n",
        "\n",
        "[0 1 4 5] [2 3]\n",
        "treino [[0 1 4 5]] >>>>> [0 0 2 2]\n",
        "teste [[2 3]] >>>>> [1 1]\n",
        "\n",
        "\n",
        "[0 1 2 3] [4 5]\n",
        "treino [[0 1 2 3]] >>>>> [0 0 1 1]\n",
        "teste [[4 5]] >>>>> [2 2]\n",
        "\n",
        "\n"
       ]
      }
     ],
     "prompt_number": 132
    },
    {
     "cell_type": "heading",
     "level": 4,
     "metadata": {},
     "source": [
      "Leave-P-Label-Out"
     ]
    },
    {
     "cell_type": "markdown",
     "metadata": {},
     "source": [
      "- LeavePLabelOut is similar as Leave-One-Label-Out, but removes samples related to P labels for each training/test set."
     ]
    },
    {
     "cell_type": "code",
     "collapsed": false,
     "input": [
      "from sklearn.cross_validation import LeavePLabelOut\n",
      "\n",
      "labels = [1,1,2,2,3,3]\n",
      "\n",
      "lplo = LeavePLabelOut(labels, 2)\n",
      "\n",
      "for train, test in lplo:\n",
      "    \n",
      "    print '%s %s' % (train, test)\n",
      "    print 'treino %s >>>>> %s' % (X[train].T, Y[train])\n",
      "    print 'teste %s >>>>> %s' % (X[test].T, Y[test])\n",
      "    print '\\n'"
     ],
     "language": "python",
     "metadata": {},
     "outputs": [
      {
       "output_type": "stream",
       "stream": "stdout",
       "text": [
        "[4 5] [0 1 2 3]\n",
        "treino [[4 5]] >>>>> [2 2]\n",
        "teste [[0 1 2 3]] >>>>> [0 0 1 1]\n",
        "\n",
        "\n",
        "[2 3] [0 1 4 5]\n",
        "treino [[2 3]] >>>>> [1 1]\n",
        "teste [[0 1 4 5]] >>>>> [0 0 2 2]\n",
        "\n",
        "\n",
        "[0 1] [2 3 4 5]\n",
        "treino [[0 1]] >>>>> [0 0]\n",
        "teste [[2 3 4 5]] >>>>> [1 1 2 2]\n",
        "\n",
        "\n"
       ]
      }
     ],
     "prompt_number": 131
    },
    {
     "cell_type": "heading",
     "level": 4,
     "metadata": {},
     "source": [
      "ShuffleSplit"
     ]
    },
    {
     "cell_type": "markdown",
     "metadata": {},
     "source": [
      "- The ShuffleSplit iterator will generate a user defined number of independent train / test dataset splits. Samples are first shuffled and then split into a pair of train and test sets.\n",
      "It is possible to control the randomness for reproducibility of the results by explicitly seeding the random_state pseudo random number generator."
     ]
    },
    {
     "cell_type": "code",
     "collapsed": false,
     "input": [
      "from sklearn.cross_validation import ShuffleSplit\n",
      "\n",
      "ss = ShuffleSplit(len(Y), n_iter=3, test_size=.25, random_state=0)\n",
      "\n",
      "for train, test in ss:\n",
      "    \n",
      "    print '%s %s' % (train, test)\n",
      "    print 'treino %s >>>>> %s' % (X[train].T, Y[train])\n",
      "    print 'teste %s >>>>> %s' % (X[test].T, Y[test])\n",
      "    print '\\n'"
     ],
     "language": "python",
     "metadata": {},
     "outputs": [
      {
       "output_type": "stream",
       "stream": "stdout",
       "text": [
        "[1 3 0 4] [5 2]\n",
        "treino [[1 3 0 4]] >>>>> [0 1 0 2]\n",
        "teste [[5 2]] >>>>> [2 1]\n",
        "\n",
        "\n",
        "[4 0 2 5] [1 3]\n",
        "treino [[4 0 2 5]] >>>>> [2 0 1 2]\n",
        "teste [[1 3]] >>>>> [0 1]\n",
        "\n",
        "\n",
        "[1 2 4 0] [3 5]\n",
        "treino [[1 2 4 0]] >>>>> [0 1 2 0]\n",
        "teste [[3 5]] >>>>> [1 2]\n",
        "\n",
        "\n"
       ]
      }
     ],
     "prompt_number": 130
    },
    {
     "cell_type": "heading",
     "level": 4,
     "metadata": {},
     "source": [
      "StratifiedShuffleSplit"
     ]
    },
    {
     "cell_type": "markdown",
     "metadata": {},
     "source": [
      "- StratifiedShuffleSplit is a variation of ShuffleSplit, which returns stratified splits, i.e which creates splits by preserving the same percentage for each target class as in the complete set."
     ]
    },
    {
     "cell_type": "code",
     "collapsed": false,
     "input": [
      "from sklearn.cross_validation import StratifiedShuffleSplit\n",
      "\n",
      "X = np.arange(0, 11, 1)\n",
      "Y = np.array([0,0,0,1,1,1,2,2,2,3,3])\n",
      "\n",
      "sss = StratifiedShuffleSplit(Y, n_iter=4, test_size=4, random_state=0)\n",
      "\n",
      "for train, test in sss:\n",
      "    \n",
      "    print '%s %s' % (train, test)\n",
      "    print 'treino %s >>>>> %s' % (X[train].T, Y[train])\n",
      "    print 'teste %s >>>>> %s' % (X[test].T, Y[test])\n",
      "    print '\\n'"
     ],
     "language": "python",
     "metadata": {},
     "outputs": [
      {
       "output_type": "stream",
       "stream": "stdout",
       "text": [
        "[1 9 3 8 2 6 5] [ 0 10  7  4]\n",
        "treino [1 9 3 8 2 6 5] >>>>> [0 3 1 2 0 2 1]\n",
        "teste [ 0 10  7  4] >>>>> [0 3 2 1]\n",
        "\n",
        "\n",
        "[ 3  8 10  1  5  6  0] [4 7 2 9]\n",
        "treino [ 3  8 10  1  5  6  0] >>>>> [1 2 3 0 1 2 0]\n",
        "teste [4 7 2 9] >>>>> [1 2 0 3]\n",
        "\n",
        "\n",
        "[ 3  6  2  5  7 10  1] [9 4 0 8]\n",
        "treino [ 3  6  2  5  7 10  1] >>>>> [1 2 0 1 2 3 0]\n",
        "teste [9 4 0 8] >>>>> [3 1 0 2]\n",
        "\n",
        "\n",
        "[ 4  3  1  8 10  7  0] [6 9 5 2]\n",
        "treino [ 4  3  1  8 10  7  0] >>>>> [1 1 0 2 3 2 0]\n",
        "teste [6 9 5 2] >>>>> [2 3 1 0]\n",
        "\n",
        "\n"
       ]
      }
     ],
     "prompt_number": 147
    },
    {
     "cell_type": "code",
     "collapsed": false,
     "input": [],
     "language": "python",
     "metadata": {},
     "outputs": []
    }
   ],
   "metadata": {}
  }
 ]
}