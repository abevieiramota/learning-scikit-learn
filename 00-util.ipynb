{
 "metadata": {
  "name": "",
  "signature": "sha256:6c8c6e6fbff660a9590f427c6446b4829c384185ee271dcb67589216be56bb17"
 },
 "nbformat": 3,
 "nbformat_minor": 0,
 "worksheets": [
  {
   "cells": [
    {
     "cell_type": "code",
     "collapsed": false,
     "input": [
      "%%file util.py\n",
      "import numpy as np\n",
      "    \n",
      "def indices(ns):\n",
      "    n = np.sum(ns)\n",
      "    i_ns = np.cumsum(ns)\n",
      "    \n",
      "    indices_random = np.random.permutation(np.arange(0, n, 1))\n",
      "    \n",
      "    return np.array_split(indices_random, i_ns)[:-1]  "
     ],
     "language": "python",
     "metadata": {},
     "outputs": [
      {
       "output_type": "stream",
       "stream": "stdout",
       "text": [
        "Overwriting util.py\n"
       ]
      }
     ],
     "prompt_number": 2
    },
    {
     "cell_type": "code",
     "collapsed": false,
     "input": [],
     "language": "python",
     "metadata": {},
     "outputs": []
    }
   ],
   "metadata": {}
  }
 ]
}