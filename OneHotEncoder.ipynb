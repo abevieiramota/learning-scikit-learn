{
 "metadata": {
  "name": "",
  "signature": "sha256:e11836afb05322c6e949fd15e1cd3ff265d841d2386514840060b0a2a57286bf"
 },
 "nbformat": 3,
 "nbformat_minor": 0,
 "worksheets": [
  {
   "cells": [
    {
     "cell_type": "code",
     "collapsed": false,
     "input": [
      "from sklearn import preprocessing\n",
      "from sklearn import feature_extraction\n",
      "import numpy as np\n",
      "import pandas as pd"
     ],
     "language": "python",
     "metadata": {},
     "outputs": [],
     "prompt_number": 35
    },
    {
     "cell_type": "code",
     "collapsed": false,
     "input": [
      "# tipos = [['casa'], ['apartamento'], ['ch\u00e1cara']]\n",
      "# vec = feature_extraction.DictVectorizer()\n",
      "# tipos_int = vec.fit_transform(tipos).toarray()\n",
      "\n",
      "valores = [[1, 0], [2, 0], [3, 1], [4, 1]]\n",
      "ohe = preprocessing.OneHotEncoder(categorical_features=[0])\n",
      "ohe.fit(valores)"
     ],
     "language": "python",
     "metadata": {},
     "outputs": [
      {
       "metadata": {},
       "output_type": "pyout",
       "prompt_number": 20,
       "text": [
        "OneHotEncoder(categorical_features=[0], dtype=<type 'float'>, n_values='auto')"
       ]
      }
     ],
     "prompt_number": 20
    },
    {
     "cell_type": "code",
     "collapsed": false,
     "input": [
      "ohe.transform([[1, 6]]).toarray()\n",
      "a = ohe.transform([[1, 6]])"
     ],
     "language": "python",
     "metadata": {},
     "outputs": [],
     "prompt_number": 32
    },
    {
     "cell_type": "code",
     "collapsed": false,
     "input": [
      "dados = [['a', 0], ['b', 1], ['c', 0]]\n",
      "dados = pd.DataFrame(dados, columns=['tipo', 'valor'])\n",
      "dados = dados.T.to_dict().values()\n",
      "vec = feature_extraction.DictVectorizer()\n",
      "vec.fit(dados)\n",
      "\n",
      "vec.transform(dados).toarray()\n",
      "\n",
      "vec.get_feature_names()"
     ],
     "language": "python",
     "metadata": {},
     "outputs": [
      {
       "metadata": {},
       "output_type": "pyout",
       "prompt_number": 44,
       "text": [
        "['tipo=a', 'tipo=b', 'tipo=c', 'valor']"
       ]
      }
     ],
     "prompt_number": 44
    },
    {
     "cell_type": "code",
     "collapsed": false,
     "input": [],
     "language": "python",
     "metadata": {},
     "outputs": []
    }
   ],
   "metadata": {}
  }
 ]
}