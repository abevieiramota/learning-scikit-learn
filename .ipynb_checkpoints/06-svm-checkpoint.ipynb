{
 "metadata": {
  "name": "",
  "signature": "sha256:253e3f705dd92678f7fd8ffeee0127c90cf023173bcbef4368a12ac99977bbf4"
 },
 "nbformat": 3,
 "nbformat_minor": 0,
 "worksheets": [
  {
   "cells": [
    {
     "cell_type": "code",
     "collapsed": false,
     "input": [
      "# fonte: http://scikit-learn.org/stable/modules/linear_model.html#logistic-regression\n",
      "# fonte: http://scikit-learn.org/stable/modules/generated/sklearn.linear_model.LogisticRegression.html\n",
      "from sklearn.svm import SVC\n",
      "import numpy as np\n",
      "from matplotlib import pyplot as pl\n",
      "import os\n",
      "from math import ceil\n",
      "%matplotlib inline\n",
      "%run util.py"
     ],
     "language": "python",
     "metadata": {},
     "outputs": [],
     "prompt_number": 15
    },
    {
     "cell_type": "code",
     "collapsed": false,
     "input": [
      "DADOS_FOLDER = 'Dados'\n",
      "DADOS_FILENAME = 'abalone.data'\n",
      "DADOS_FILEPATH = os.path.join(DADOS_FOLDER, DADOS_FILENAME)\n",
      "SEX_TO_INT = {\"M\":-1., \"F\":1., \"I\":0.}\n",
      "PROP_TREINO = .5\n",
      "\n",
      "dados = np.genfromtxt(DADOS_FILEPATH, delimiter=',', converters={ 0: lambda x: SEX_TO_INT[x]})\n",
      "X = dados[:, :-1]\n",
      "Y = dados[:, -1]"
     ],
     "language": "python",
     "metadata": {},
     "outputs": [],
     "prompt_number": 30
    },
    {
     "cell_type": "code",
     "collapsed": false,
     "input": [
      "size_exemplos = X.shape[0]\n",
      "size_treino = int(ceil(PROP_TREINO*size_exemplos))\n",
      "size_teste = size_exemplos - size_treino\n",
      "i_treino, i_teste = indices([size_treino, size_teste])\n",
      "\n",
      "X_treino, X_teste = X[i_treino, :], X[i_teste, :]\n",
      "Y_treino, Y_teste = Y[i_treino], Y[i_teste]"
     ],
     "language": "python",
     "metadata": {},
     "outputs": [],
     "prompt_number": 31
    },
    {
     "cell_type": "code",
     "collapsed": false,
     "input": [
      "cs = [.0001, .1, 1., 1000.]\n",
      "\n",
      "for C in cs:\n",
      "\n",
      "    model = SVC(kernel='linear', C=C)\n",
      "    model.fit(X_treino, Y_treino)\n",
      "\n",
      "    _Y_teste = model.predict(X_teste)\n",
      "    print '[linear] C=', C, 'acertou', np.sum(Y_teste==_Y_teste), 'de', size_teste\n",
      "    \n",
      "    model = SVC(kernel='poly', C=C, degree=5)\n",
      "    model.fit(X_treino, Y_treino)\n",
      "\n",
      "    _Y_teste = model.predict(X_teste)\n",
      "    print '[poly] C=', C, 'acertou', np.sum(Y_teste==_Y_teste), 'de', size_teste\n",
      "    \n",
      "    model = SVC(kernel='rbf', C=C)\n",
      "    model.fit(X_treino, Y_treino)\n",
      "\n",
      "    _Y_teste = model.predict(X_teste)\n",
      "    print '[rbf] C=', C, 'acertou', np.sum(Y_teste==_Y_teste), 'de', size_teste\n",
      "    \n",
      "    model = SVC(kernel='sigmoid', C=C)\n",
      "    model.fit(X_treino, Y_treino)\n",
      "\n",
      "    _Y_teste = model.predict(X_teste)\n",
      "    print '[sigmoid] C=', C, 'acertou', np.sum(Y_teste==_Y_teste), 'de', size_teste\n",
      "    print ''"
     ],
     "language": "python",
     "metadata": {},
     "outputs": [
      {
       "output_type": "stream",
       "stream": "stdout",
       "text": [
        "[linear] C= 0.0001 acertou 341 de 2088\n",
        "[poly] C="
       ]
      },
      {
       "output_type": "stream",
       "stream": "stdout",
       "text": [
        " 0.0001 acertou 341 de 2088\n",
        "[rbf] C="
       ]
      },
      {
       "output_type": "stream",
       "stream": "stdout",
       "text": [
        " 0.0001 acertou 341 de 2088\n",
        "[sigmoid] C="
       ]
      },
      {
       "output_type": "stream",
       "stream": "stdout",
       "text": [
        " 0.0001 acertou 341 de 2088\n",
        "\n",
        "[linear] C="
       ]
      },
      {
       "output_type": "stream",
       "stream": "stdout",
       "text": [
        " 0.1 acertou 479 de 2088\n",
        "[poly] C="
       ]
      },
      {
       "output_type": "stream",
       "stream": "stdout",
       "text": [
        " 0.1 acertou 344 de 2088\n",
        "[rbf] C="
       ]
      },
      {
       "output_type": "stream",
       "stream": "stdout",
       "text": [
        " 0.1 acertou 379 de 2088\n",
        "[sigmoid] C="
       ]
      },
      {
       "output_type": "stream",
       "stream": "stdout",
       "text": [
        " 0.1 acertou 341 de 2088\n",
        "\n",
        "[linear] C="
       ]
      },
      {
       "output_type": "stream",
       "stream": "stdout",
       "text": [
        " 1.0 acertou 520 de 2088\n",
        "[poly] C="
       ]
      },
      {
       "output_type": "stream",
       "stream": "stdout",
       "text": [
        " 1.0 acertou 350 de 2088\n",
        "[rbf] C="
       ]
      },
      {
       "output_type": "stream",
       "stream": "stdout",
       "text": [
        " 1.0 acertou 462 de 2088\n",
        "[sigmoid] C="
       ]
      },
      {
       "output_type": "stream",
       "stream": "stdout",
       "text": [
        " 1.0 acertou 341 de 2088\n",
        "\n",
        "[linear] C="
       ]
      },
      {
       "output_type": "stream",
       "stream": "stdout",
       "text": [
        " 1000.0 acertou 548 de 2088\n",
        "[poly] C="
       ]
      },
      {
       "output_type": "stream",
       "stream": "stdout",
       "text": [
        " 1000.0 acertou 436 de 2088\n",
        "[rbf] C="
       ]
      },
      {
       "output_type": "stream",
       "stream": "stdout",
       "text": [
        " 1000.0 acertou 575 de 2088\n",
        "[sigmoid] C="
       ]
      },
      {
       "output_type": "stream",
       "stream": "stdout",
       "text": [
        " 1000.0 acertou 341 de 2088\n",
        "\n"
       ]
      }
     ],
     "prompt_number": 35
    },
    {
     "cell_type": "code",
     "collapsed": false,
     "input": [],
     "language": "python",
     "metadata": {},
     "outputs": []
    }
   ],
   "metadata": {}
  }
 ]
}