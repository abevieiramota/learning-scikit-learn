{
 "metadata": {
  "name": "",
  "signature": "sha256:f2068587c92910915c8c9ea46e6865918e2399776cf350503d349ed52305da5c"
 },
 "nbformat": 3,
 "nbformat_minor": 0,
 "worksheets": [
  {
   "cells": [
    {
     "cell_type": "code",
     "collapsed": false,
     "input": [],
     "language": "python",
     "metadata": {},
     "outputs": []
    }
   ],
   "metadata": {}
  }
 ]
}