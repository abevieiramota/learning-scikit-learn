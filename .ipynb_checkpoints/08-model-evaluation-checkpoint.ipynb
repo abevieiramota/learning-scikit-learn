{
 "metadata": {
  "name": "",
  "signature": "sha256:277b40dd745f7fd3a850d316eac38b03141a1129be75a2a08987f814d0d0095b"
 },
 "nbformat": 3,
 "nbformat_minor": 0,
 "worksheets": [
  {
   "cells": [
    {
     "cell_type": "markdown",
     "metadata": {},
     "source": [
      "- http://scikit-learn.org/stable/modules/model_evaluation.html"
     ]
    },
    {
     "cell_type": "code",
     "collapsed": false,
     "input": [
      "from sklearn import svm, cross_validation, datasets, metrics\n",
      "import numpy as np\n",
      "from IPython import display\n",
      "from matplotlib import pyplot as pl\n",
      "%matplotlib inline"
     ],
     "language": "python",
     "metadata": {},
     "outputs": [],
     "prompt_number": 7
    },
    {
     "cell_type": "heading",
     "level": 2,
     "metadata": {},
     "source": [
      "3.5.1. The scoring parameter: defining model evaluation rules"
     ]
    },
    {
     "cell_type": "heading",
     "level": 3,
     "metadata": {},
     "source": [
      "3.5.1.1. Common cases: predefined values"
     ]
    },
    {
     "cell_type": "code",
     "collapsed": false,
     "input": [
      "iris = datasets.load_iris()\n",
      "X, y = iris.data, iris.target\n",
      "model = svm.SVC()\n",
      "ms = ['accuracy', 'f1', 'recall']\n",
      "# default 3-fold\n",
      "for scoring in ms:\n",
      "    print '%-10s' % scoring, '\\t', cross_validation.cross_val_score(model, X, y, scoring=scoring, cv=3)"
     ],
     "language": "python",
     "metadata": {},
     "outputs": [
      {
       "output_type": "stream",
       "stream": "stdout",
       "text": [
        "accuracy   \t[ 0.96  0.96  0.98]\n",
        "f1         \t[ 0.95992647  0.96        0.97998268]\n",
        "recall     \t[ 0.96  0.96  0.98]\n"
       ]
      }
     ],
     "prompt_number": 8
    },
    {
     "cell_type": "heading",
     "level": 3,
     "metadata": {},
     "source": [
      "3.5.1.2. Defining your scoring strategy from score functions"
     ]
    },
    {
     "cell_type": "code",
     "collapsed": false,
     "input": [
      "# pulei"
     ],
     "language": "python",
     "metadata": {},
     "outputs": [],
     "prompt_number": 9
    },
    {
     "cell_type": "heading",
     "level": 3,
     "metadata": {},
     "source": [
      "3.5.1.3. Implementing your own scoring object"
     ]
    },
    {
     "cell_type": "code",
     "collapsed": false,
     "input": [
      "# pulei"
     ],
     "language": "python",
     "metadata": {},
     "outputs": [],
     "prompt_number": 10
    },
    {
     "cell_type": "heading",
     "level": 2,
     "metadata": {},
     "source": [
      "3.5.2. Function for prediction-error metrics"
     ]
    },
    {
     "cell_type": "markdown",
     "metadata": {},
     "source": [
      "The module sklearn.metric also exposes a set of simple functions measuring a prediction error given ground truth and prediction:\n",
      "- functions ending with _score return a value to maximize (the higher the better).\n",
      "- functions ending with _error or _loss return a value to minimize (the lower the better)."
     ]
    },
    {
     "cell_type": "heading",
     "level": 3,
     "metadata": {},
     "source": [
      "3.5.2.1. Classification metrics"
     ]
    },
    {
     "cell_type": "code",
     "collapsed": false,
     "input": [
      "model = svm.SVC()\n",
      "X_train, X_test, y_train, y_test = cross_validation.train_test_split(iris.data,\n",
      "                                                                     iris.target,\n",
      "                                                                     test_size=.4)\n",
      "\n",
      "model.fit(X_train, y_train)\n",
      "\n",
      "_y_test = model.predict(X_test)\n",
      "\n",
      "print 'classification report'\n",
      "print metrics.classification_report(y_test, _y_test)\n",
      "print 'confusion matrix'\n",
      "print metrics.confusion_matrix(y_test, _y_test)"
     ],
     "language": "python",
     "metadata": {},
     "outputs": [
      {
       "output_type": "stream",
       "stream": "stdout",
       "text": [
        "classification report\n",
        "             precision    recall  f1-score   support\n",
        "\n",
        "          0       1.00      1.00      1.00        13\n",
        "          1       0.96      0.96      0.96        23\n",
        "          2       0.96      0.96      0.96        24\n",
        "\n",
        "avg / total       0.97      0.97      0.97        60\n",
        "\n",
        "confusion matrix\n",
        "[[13  0  0]\n",
        " [ 0 22  1]\n",
        " [ 0  1 23]]"
       ]
      },
      {
       "output_type": "stream",
       "stream": "stdout",
       "text": [
        "\n"
       ]
      }
     ],
     "prompt_number": 11
    },
    {
     "cell_type": "heading",
     "level": 4,
     "metadata": {},
     "source": [
      "3.5.2.1.1. Accuracy score"
     ]
    },
    {
     "cell_type": "markdown",
     "metadata": {},
     "source": [
      "<img src=http://scikit-learn.org/stable/_images/math/0ee88f60b07dd5471d195475b082ee97cda896b9.png />"
     ]
    },
    {
     "cell_type": "code",
     "collapsed": false,
     "input": [
      "# apenas um label\n",
      "y = [0, 1, 2, 3]\n",
      "_y = [0, 1, 0, 1]\n",
      "\n",
      "print 'normalizado', metrics.accuracy_score(y, _y)\n",
      "print 'n\u00e3o normalizado', metrics.accuracy_score(y, _y, normalize=False)"
     ],
     "language": "python",
     "metadata": {},
     "outputs": [
      {
       "output_type": "stream",
       "stream": "stdout",
       "text": [
        "normalizado 0.5\n",
        "n\u00e3o normalizado 2\n"
       ]
      }
     ],
     "prompt_number": 12
    },
    {
     "cell_type": "code",
     "collapsed": false,
     "input": [
      "# multilabel\n",
      "y = [[0., 1.], [1., 1.]]\n",
      "_y = [[1., 1.], [1., 1.]]\n",
      "\n",
      "print 'normalizado', metrics.accuracy_score(y, _y)\n",
      "print 'n\u00e3o normalizado', metrics.accuracy_score(y, _y, normalize=False)"
     ],
     "language": "python",
     "metadata": {},
     "outputs": [
      {
       "output_type": "stream",
       "stream": "stdout",
       "text": [
        "normalizado 0.5\n",
        "n\u00e3o normalizado 1\n"
       ]
      }
     ],
     "prompt_number": 13
    },
    {
     "cell_type": "heading",
     "level": 4,
     "metadata": {},
     "source": [
      "3.5.2.1.2. Average precision score"
     ]
    },
    {
     "cell_type": "code",
     "collapsed": false,
     "input": [
      "# n\u00e3o entendi!!!\n",
      "y_true = [0., 0., 1., 1.]\n",
      "y_scores = [.1, .4, .35, .8]\n",
      "\n",
      "print metrics.average_precision_score(y_true, y_scores)"
     ],
     "language": "python",
     "metadata": {},
     "outputs": [
      {
       "output_type": "stream",
       "stream": "stdout",
       "text": [
        "0.791666666667\n"
       ]
      }
     ],
     "prompt_number": 14
    },
    {
     "cell_type": "heading",
     "level": 4,
     "metadata": {},
     "source": [
      "3.5.2.1.3. Confusion matrix"
     ]
    },
    {
     "cell_type": "code",
     "collapsed": false,
     "input": [
      "y = [0, 0, 0, 1, 1, 1, 2, 2, 2]\n",
      "_y = [1, 0, 0, 2, 1, 0, 0, 2, 2]\n",
      "\n",
      "cm = metrics.confusion_matrix(y, _y, labels=[0,1,2,3])\n",
      "print cm\n",
      "\n",
      "pl.matshow(cm)\n",
      "pl.colorbar()"
     ],
     "language": "python",
     "metadata": {},
     "outputs": [
      {
       "output_type": "stream",
       "stream": "stdout",
       "text": [
        "[[2 1 0 0]\n",
        " [1 1 1 0]\n",
        " [1 0 2 0]\n",
        " [0 0 0 0]]\n"
       ]
      },
      {
       "metadata": {},
       "output_type": "pyout",
       "prompt_number": 15,
       "text": [
        "<matplotlib.colorbar.Colorbar instance at 0x7f68dcd420e0>"
       ]
      },
      {
       "metadata": {},
       "output_type": "display_data",
       "png": "[encoded data removed]",
       "text": [
        "<matplotlib.figure.Figure at 0x7f68dcdad350>"
       ]
      }
     ],
     "prompt_number": 15
    },
    {
     "cell_type": "heading",
     "level": 4,
     "metadata": {},
     "source": [
      "3.5.2.1.4. Classification report"
     ]
    },
    {
     "cell_type": "code",
     "collapsed": false,
     "input": [
      "print metrics.classification_report(y, _y)"
     ],
     "language": "python",
     "metadata": {},
     "outputs": [
      {
       "output_type": "stream",
       "stream": "stdout",
       "text": [
        "             precision    recall  f1-score   support\n",
        "\n",
        "          0       0.50      0.67      0.57         3\n",
        "          1       0.50      0.33      0.40         3\n",
        "          2       0.67      0.67      0.67         3\n",
        "\n",
        "avg / total       0.56      0.56      0.55         9\n",
        "\n"
       ]
      }
     ],
     "prompt_number": 16
    },
    {
     "cell_type": "heading",
     "level": 4,
     "metadata": {},
     "source": [
      "3.5.2.1.5. Hamming loss"
     ]
    },
    {
     "cell_type": "markdown",
     "metadata": {},
     "source": [
      "<img src=http://scikit-learn.org/stable/_images/math/7d82eb4e9405409217313c68ca6cd08bb8ccded7.png />"
     ]
    },
    {
     "cell_type": "code",
     "collapsed": false,
     "input": [
      "y = [1,2,3,4,4]\n",
      "_y = [2,2,3,4,4]\n",
      "\n",
      "print metrics.hamming_loss(y, _y)"
     ],
     "language": "python",
     "metadata": {},
     "outputs": [
      {
       "output_type": "stream",
       "stream": "stdout",
       "text": [
        "0.166666666667\n"
       ]
      }
     ],
     "prompt_number": 25
    },
    {
     "cell_type": "code",
     "collapsed": false,
     "input": [
      "y =  [[0., 1.], [1., 1.]]\n",
      "_y = [[1., 1.], [0., 1.]]\n",
      "\n",
      "# 2 de 4\n",
      "print metrics.hamming_loss(y, _y)\n",
      "# diferen\u00e7a para a zero one loss - o que vale \u00e9 a sequ\u00eancia de labels toda e n\u00e3o partes delas\n",
      "# no caso, [0., 1.] != [1., 1.], \u00e9 um erro completo e n\u00e3o como na hamming_loss que h\u00e1 .5 erro, j\u00e1 que apenas um label est\u00e1 errado\n",
      "print metrics.zero_one_loss(y, _y)"
     ],
     "language": "python",
     "metadata": {},
     "outputs": [
      {
       "output_type": "stream",
       "stream": "stdout",
       "text": [
        "0.5\n",
        "1.0\n"
       ]
      }
     ],
     "prompt_number": 26
    },
    {
     "cell_type": "heading",
     "level": 4,
     "metadata": {},
     "source": [
      "3.5.2.1.6. Jaccard similarity coefficient score"
     ]
    },
    {
     "cell_type": "markdown",
     "metadata": {},
     "source": [
      "<img src=http://scikit-learn.org/stable/_images/math/e38ce1a7299a9fbc67b04fe92dc67c80b55529bf.png />"
     ]
    },
    {
     "cell_type": "code",
     "collapsed": false,
     "input": [
      "# para one label, \u00e9 o mesmo que accuracy\n",
      "y = [0, 1, 2, 3]\n",
      "_y = [0, 1, 2, 2]\n",
      "\n",
      "print metrics.jaccard_similarity_score(y, _y)"
     ],
     "language": "python",
     "metadata": {},
     "outputs": [
      {
       "output_type": "stream",
       "stream": "stdout",
       "text": [
        "0.75\n"
       ]
      }
     ],
     "prompt_number": 27
    },
    {
     "cell_type": "code",
     "collapsed": false,
     "input": [
      "# j\u00e1 para multibal \u00e9 diferente\n",
      "y = [[0., 1., 2.], [1., 1., 2.]]\n",
      "_y = [[0., 0., 2.], [1., 1., 2.]]\n",
      "\n",
      "# 5/6\n",
      "print metrics.jaccard_similarity_score(y, _y)\n",
      "print metrics.jaccard_similarity_score(y, _y, normalize=False) #?"
     ],
     "language": "python",
     "metadata": {},
     "outputs": [
      {
       "output_type": "stream",
       "stream": "stdout",
       "text": [
        "0.833333333333\n",
        "1.66666666667\n"
       ]
      }
     ],
     "prompt_number": 28
    },
    {
     "cell_type": "heading",
     "level": 4,
     "metadata": {},
     "source": [
      "3.5.2.1.7. Precision, recall and F-measures"
     ]
    },
    {
     "cell_type": "heading",
     "level": 5,
     "metadata": {},
     "source": [
      "3.5.2.1.7.1. Binary classification"
     ]
    },
    {
     "cell_type": "markdown",
     "metadata": {},
     "source": [
      "<img src=http://scikit-learn.org/stable/_images/math/688216a08d751ad4cd66a863be10b05b9028a703.png />\n",
      "<img src=http://scikit-learn.org/stable/_images/math/fb806bd88b2ec2eec0ab4c263ef02e858523bc4b.png />\n",
      "<img src=http://scikit-learn.org/stable/_images/math/00e48e340f1254f19f827a05a73372ccbcb5b2ec.png />\n",
      "<img src=http://s0.wp.com/latex.php?latex=F+%3D+%5Cfrac%7B1%7D%7B%5Calpha+%5Cfrac%7B1%7D%7BP%7D+%2B+%281-%5Calpha%29+%5Cfrac%7B1%7D%7BR%7D%7D%3D%5Cfrac%7B%28%5Cbeta%5E2+%2B+1%29PR%7D%7B%5Cbeta%5E2+P%2BR%7D&bg=eeeeee&fg=666666&s=2 />"
     ]
    },
    {
     "cell_type": "code",
     "collapsed": false,
     "input": [
      "y = [0, 0, 1, 1]\n",
      "_y = [0, 1, 1, 1]\n",
      "\n",
      "print 'precision\\t', metrics.precision_score(y, _y)\n",
      "print 'recall\\t\\t', metrics.recall_score(y, _y)\n",
      "print 'f1\\t\\t', metrics.f1_score(y, _y)\n",
      "print 'fb=1\\t\\t', metrics.fbeta_score(y, _y, 1)\n",
      "# quanto maior beta, maior o peso de recall e menor o de precision\n",
      "print 'fb=10\\t\\t', metrics.fbeta_score(y, _y, 10)\n",
      "print 'fb=0.01\\t\\t', metrics.fbeta_score(y, _y, 0.01)\n",
      "# calcula precision, recall, f e support(n\u00famero de ocorr\u00eancias de cada classe em y) para cada classe\n",
      "p, r, f, s = metrics.precision_recall_fscore_support(y, _y, beta=.5)\n",
      "print p, r, f, s\n",
      "print metrics.precision_recall_curve(y, _y) # n\u00e3o entendi!!!!!"
     ],
     "language": "python",
     "metadata": {},
     "outputs": [
      {
       "output_type": "stream",
       "stream": "stdout",
       "text": [
        "precision\t0.666666666667\n",
        "recall\t\t1.0\n",
        "f1\t\t0.8\n",
        "fb=1\t\t0.8\n",
        "fb=10\t\t0.995073891626\n",
        "fb=0.01\t\t0.666688887408\n",
        "[ 1.          0.66666667] [ 0.5  1. ] [ 0.83333333  0.71428571] [2 2]\n",
        "(array([ 0.66666667,  1.        ]), array([ 1.,  0.]), array([1]))\n"
       ]
      }
     ],
     "prompt_number": 29
    },
    {
     "cell_type": "heading",
     "level": 5,
     "metadata": {},
     "source": [
      "3.5.2.1.7.2. Multiclass and multilabel classification"
     ]
    },
    {
     "cell_type": "code",
     "collapsed": false,
     "input": [
      "# n\u00e3o vi!!!!"
     ],
     "language": "python",
     "metadata": {},
     "outputs": [],
     "prompt_number": 30
    },
    {
     "cell_type": "heading",
     "level": 4,
     "metadata": {},
     "source": [
      "3.5.2.1.8. Hinge loss"
     ]
    },
    {
     "cell_type": "markdown",
     "metadata": {},
     "source": [
      "<img src=http://scikit-learn.org/stable/_images/math/3d78d5a42e7f47618c78ea7aaf5273dbe99e2c79.png />"
     ]
    },
    {
     "cell_type": "code",
     "collapsed": false,
     "input": [
      "# N\u00c3O ENTENDI!!\n",
      "X = [[0], [1]]\n",
      "y = [-1, 1]\n",
      "\n",
      "est =  svm.SVC(random_state=0)\n",
      "est.fit(X, y)\n",
      "\n",
      "pred_decision = est.decision_function([[-2], [3], [.5]])\n",
      "\n",
      "print pred_decision\n",
      "print metrics.hinge_loss([-1, 1, 1], pred_decision)"
     ],
     "language": "python",
     "metadata": {},
     "outputs": [
      {
       "output_type": "stream",
       "stream": "stdout",
       "text": [
        "[[-0.01819223]\n",
        " [ 0.01819223]\n",
        " [-0.        ]]\n",
        "1.0\n"
       ]
      }
     ],
     "prompt_number": 31
    },
    {
     "cell_type": "heading",
     "level": 4,
     "metadata": {},
     "source": [
      "3.5.2.1.9. Log loss"
     ]
    },
    {
     "cell_type": "code",
     "collapsed": false,
     "input": [
      "# pulei"
     ],
     "language": "python",
     "metadata": {},
     "outputs": [],
     "prompt_number": 32
    },
    {
     "cell_type": "heading",
     "level": 4,
     "metadata": {},
     "source": [
      "3.5.2.1.10. Matthews correlation coefficient"
     ]
    },
    {
     "cell_type": "code",
     "collapsed": false,
     "input": [
      "# pulei"
     ],
     "language": "python",
     "metadata": {},
     "outputs": [],
     "prompt_number": 33
    },
    {
     "cell_type": "heading",
     "level": 4,
     "metadata": {},
     "source": [
      "3.5.2.1.11. Receiver operating characteristic (ROC)"
     ]
    },
    {
     "cell_type": "code",
     "collapsed": false,
     "input": [
      "# pulei"
     ],
     "language": "python",
     "metadata": {},
     "outputs": [],
     "prompt_number": 34
    },
    {
     "cell_type": "heading",
     "level": 4,
     "metadata": {},
     "source": [
      "3.5.2.1.12. Zero one loss"
     ]
    },
    {
     "cell_type": "code",
     "collapsed": false,
     "input": [
      "# ver hamming loss"
     ],
     "language": "python",
     "metadata": {},
     "outputs": [],
     "prompt_number": 35
    },
    {
     "cell_type": "heading",
     "level": 3,
     "metadata": {},
     "source": [
      "3.5.2.2. Regression metrics"
     ]
    },
    {
     "cell_type": "heading",
     "level": 4,
     "metadata": {},
     "source": [
      "3.5.2.2.1. Explained variance score"
     ]
    },
    {
     "cell_type": "markdown",
     "metadata": {},
     "source": [
      "<img src=http://scikit-learn.org/stable/_images/math/025507cf27584290db5ba58e7171cb684caac656.png />"
     ]
    },
    {
     "cell_type": "code",
     "collapsed": false,
     "input": [
      "# n\u00e3o entendi\n",
      "y = [0., 1.2, 3.4, 5.5]\n",
      "_y = [0.1, 1.2, 3.2, 5.]\n",
      "\n",
      "print metrics.explained_variance_score(y, _y)"
     ],
     "language": "python",
     "metadata": {},
     "outputs": [
      {
       "output_type": "stream",
       "stream": "stdout",
       "text": [
        "0.988167347514\n"
       ]
      }
     ],
     "prompt_number": 36
    },
    {
     "cell_type": "heading",
     "level": 4,
     "metadata": {},
     "source": [
      "3.5.2.2.2. Mean absolute error"
     ]
    },
    {
     "cell_type": "markdown",
     "metadata": {},
     "source": [
      "<img src=http://scikit-learn.org/stable/_images/math/64900c0802889e3e10222bf96e9f90c9434a1d4b.png />"
     ]
    },
    {
     "cell_type": "code",
     "collapsed": false,
     "input": [
      "y = [0., 1., 2., 3.]\n",
      "_y = [0.5, 1.5, 2.5, 3.5]\n",
      "\n",
      "print metrics.mean_absolute_error(y, _y)"
     ],
     "language": "python",
     "metadata": {},
     "outputs": [
      {
       "output_type": "stream",
       "stream": "stdout",
       "text": [
        "0.5\n"
       ]
      }
     ],
     "prompt_number": 37
    },
    {
     "cell_type": "heading",
     "level": 4,
     "metadata": {},
     "source": [
      "3.5.2.2.3. Mean squared error"
     ]
    },
    {
     "cell_type": "markdown",
     "metadata": {},
     "source": [
      "<img src=http://scikit-learn.org/stable/_images/math/75e48507ed68f576f6bea4de66f5829d2f4a6ca3.png />"
     ]
    },
    {
     "cell_type": "code",
     "collapsed": false,
     "input": [
      "print metrics.mean_squared_error(y, _y)"
     ],
     "language": "python",
     "metadata": {},
     "outputs": [
      {
       "output_type": "stream",
       "stream": "stdout",
       "text": [
        "0.25\n"
       ]
      }
     ],
     "prompt_number": 38
    },
    {
     "cell_type": "heading",
     "level": 4,
     "metadata": {},
     "source": [
      "3.5.2.2.4. R\u00b2 score, the coefficient of determination"
     ]
    },
    {
     "cell_type": "markdown",
     "metadata": {},
     "source": [
      "The r2_score function computes R\u00b2, the coefficient of determination. It provides a measure of how well future samples are likely to be predicted by the model."
     ]
    },
    {
     "cell_type": "markdown",
     "metadata": {},
     "source": [
      "<img src=http://scikit-learn.org/stable/_images/math/9458701295e9786df02b4c3c1fc9409248079adf.png />"
     ]
    },
    {
     "cell_type": "code",
     "collapsed": false,
     "input": [
      "# VER MELHOR!\n",
      "print metrics.r2_score(y, _y)"
     ],
     "language": "python",
     "metadata": {},
     "outputs": [
      {
       "output_type": "stream",
       "stream": "stdout",
       "text": [
        "0.8\n"
       ]
      }
     ],
     "prompt_number": 39
    },
    {
     "cell_type": "heading",
     "level": 3,
     "metadata": {},
     "source": [
      "3.5.3. Clustering metrics"
     ]
    },
    {
     "cell_type": "code",
     "collapsed": false,
     "input": [
      "# parei"
     ],
     "language": "python",
     "metadata": {},
     "outputs": [],
     "prompt_number": 116
    }
   ],
   "metadata": {}
  }
 ]
}